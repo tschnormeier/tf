{
  "nbformat": 4,
  "nbformat_minor": 0,
  "metadata": {
    "colab": {
      "provenance": [],
      "authorship_tag": "ABX9TyOvKEFomRV3Bv6LM4KFSw2w",
      "include_colab_link": true
    },
    "kernelspec": {
      "name": "python3",
      "display_name": "Python 3"
    },
    "language_info": {
      "name": "python"
    },
    "accelerator": "GPU",
    "gpuClass": "standard"
  },
  "cells": [
    {
      "cell_type": "markdown",
      "metadata": {
        "id": "view-in-github",
        "colab_type": "text"
      },
      "source": [
        "<a href=\"https://colab.research.google.com/github/tschnormeier/tf/blob/master/MNIST_tf_gpu.ipynb\" target=\"_parent\"><img src=\"https://colab.research.google.com/assets/colab-badge.svg\" alt=\"Open In Colab\"/></a>"
      ]
    },
    {
      "cell_type": "code",
      "execution_count": 1,
      "metadata": {
        "id": "_yU4nxQDxFuy"
      },
      "outputs": [],
      "source": [
        "#This code was based off the code at the following URL:\n",
        "# www.kaggle.com/hassanamin/tensorflow-mnist-gpu-tutorial\n",
        "# but when I ran this on my laptop, the GPU wasn't active and it took like 5 hours to run one epoch\n"
      ]
    },
    {
      "cell_type": "code",
      "source": [
        "import numpy as np # linear algebra\n",
        "import pandas as pd # data processing, CSV file I/O (e.g. pd.read.csv)\n",
        "\n",
        "# Input data files are available in the \"../input\" directory.\n",
        "# For example, running this will list all files under the input directory\n",
        "\n",
        "import os"
      ],
      "metadata": {
        "id": "lad7PFDdxm4p"
      },
      "execution_count": 2,
      "outputs": []
    },
    {
      "cell_type": "code",
      "source": [
        "for dirname, _, filenames in os.walk('/kaggle/input'):\n",
        "    for filename in filenames:\n",
        "        print(os.path.join(dirname, filename))\n",
        "\n",
        "# Any results you write to the current directory are saved as output.\n"
      ],
      "metadata": {
        "id": "MgS08-PFyS8x"
      },
      "execution_count": 3,
      "outputs": []
    },
    {
      "cell_type": "code",
      "source": [
        "import tensorflow as tf\n",
        "\n",
        "# To check GPU availability in Tensorflow\n",
        "\n",
        "gpus = tf.config.experimental.list_physical_devices('GPU')\n",
        "if len(gpus) == 0:\n",
        "    print(\"No GPUS available.\")\n",
        "else:\n",
        "    print(gpus)\n",
        "    for gpu in gpus:\n",
        "        print(\"Name: \", gpu.name, \"  Type: \", gpu.device_type)"
      ],
      "metadata": {
        "colab": {
          "base_uri": "https://localhost:8080/"
        },
        "id": "M9U1zZlhy4JI",
        "outputId": "398e0585-8d97-4f6c-c252-6f1ee367ce5a"
      },
      "execution_count": 4,
      "outputs": [
        {
          "output_type": "stream",
          "name": "stdout",
          "text": [
            "[PhysicalDevice(name='/physical_device:GPU:0', device_type='GPU')]\n",
            "Name:  /physical_device:GPU:0   Type:  GPU\n"
          ]
        }
      ]
    },
    {
      "cell_type": "code",
      "source": [
        "# Listing Devices including GPU's with TensorFlow\n",
        "from tensorflow.python.client import device_lib\n",
        "print(device_lib.list_local_devices())"
      ],
      "metadata": {
        "colab": {
          "base_uri": "https://localhost:8080/"
        },
        "id": "jg_w7Njk0-ez",
        "outputId": "52b148bf-c75d-4af6-8a41-0fe0d35f7d05"
      },
      "execution_count": 5,
      "outputs": [
        {
          "output_type": "stream",
          "name": "stdout",
          "text": [
            "[name: \"/device:CPU:0\"\n",
            "device_type: \"CPU\"\n",
            "memory_limit: 268435456\n",
            "locality {\n",
            "}\n",
            "incarnation: 2584372497321774656\n",
            "xla_global_id: -1\n",
            ", name: \"/device:GPU:0\"\n",
            "device_type: \"GPU\"\n",
            "memory_limit: 14401011712\n",
            "locality {\n",
            "  bus_id: 1\n",
            "  links {\n",
            "  }\n",
            "}\n",
            "incarnation: 8991119508679734717\n",
            "physical_device_desc: \"device: 0, name: Tesla T4, pci bus id: 0000:00:04.0, compute capability: 7.5\"\n",
            "xla_global_id: 416903419\n",
            "]\n"
          ]
        }
      ]
    },
    {
      "cell_type": "code",
      "source": [
        "# To Check GPU in Tensorflow\n",
        "gpu_flag = tf.test.is_gpu_available()\n",
        "#print(type(gpu_flag))\n",
        "print(\"tf.test.is_gpu_available() returned: \", gpu_flag)\n",
        "# got WARNING of deprecated function called above, and to use this next one\n",
        "cpuList = tf.config.list_physical_devices('CPU')\n",
        "print(\"list_physical_devices('CPU') returned: \", cpuList)\n",
        "gpuList = tf.config.list_physical_devices('GPU')\n",
        "print(\"list_physical_devices('GPU') returned: \", gpuList)"
      ],
      "metadata": {
        "colab": {
          "base_uri": "https://localhost:8080/"
        },
        "id": "RuYT9MRwjs3d",
        "outputId": "5802fe32-9b9e-4b4b-e384-4c23e004d535"
      },
      "execution_count": 13,
      "outputs": [
        {
          "output_type": "stream",
          "name": "stdout",
          "text": [
            "<class 'bool'>\n",
            "tf.test.is_gpu_available() returned:  True\n",
            "list_physical_devices('CPU') returned:  [PhysicalDevice(name='/physical_device:CPU:0', device_type='CPU')]\n",
            "list_physical_devices('GPU') returned:  [PhysicalDevice(name='/physical_device:GPU:0', device_type='GPU')]\n"
          ]
        }
      ]
    },
    {
      "cell_type": "code",
      "source": [
        "# Load the dataset and normalize the data\n",
        "mnist = tf.keras.datasets.mnist\n",
        "(x_train, y_train), (x_test, y_test) = mnist.load_data()\n",
        "# Normalize the data - Pre-processing of Training and Test datasets\n",
        "x_train, x_test = x_train / 255.0, x_test / 255.0"
      ],
      "metadata": {
        "id": "nHrdoZ001l9X",
        "colab": {
          "base_uri": "https://localhost:8080/"
        },
        "outputId": "551cd829-cd53-4736-8149-327c925966b9"
      },
      "execution_count": 14,
      "outputs": [
        {
          "output_type": "stream",
          "name": "stdout",
          "text": [
            "Downloading data from https://storage.googleapis.com/tensorflow/tf-keras-datasets/mnist.npz\n",
            "11490434/11490434 [==============================] - 0s 0us/step\n"
          ]
        }
      ]
    },
    {
      "cell_type": "code",
      "source": [
        "# Create Sequential Model Using Tensorflow Keras\n",
        "model = tf.keras.models.Sequential([\n",
        "    tf.keras.layers.Flatten(input_shape = (28, 28)),\n",
        "    tf.keras.layers.Dense(128, activation = 'relu'),\n",
        "    tf.keras.layers.Dropout(0.2),\n",
        "    tf.keras.layers.Dense(10)\n",
        "])\n",
        "\n",
        "predictions = model(x_train[:1]).numpy()\n",
        "print(predictions)\n",
        "\n",
        "loss_fn = tf.keras.losses.SparseCategoricalCrossentropy(from_logits = True)\n"
      ],
      "metadata": {
        "colab": {
          "base_uri": "https://localhost:8080/"
        },
        "id": "U3UOGnXfoWBL",
        "outputId": "d0a020ac-0f81-4bb8-c345-4f0c945bf3c3"
      },
      "execution_count": 17,
      "outputs": [
        {
          "output_type": "stream",
          "name": "stdout",
          "text": [
            "[[-0.240172   -0.7876723  -0.12205479  0.85315484 -0.13184145  0.22205088\n",
            "  -0.1474672  -0.15900262  0.1391772  -0.21905261]]\n"
          ]
        }
      ]
    },
    {
      "cell_type": "code",
      "source": [
        "# Compile the Model Designed Earlier\n",
        "model.compile(optimizer = 'adam',\n",
        "              loss = loss_fn,\n",
        "              metrics = ['accuracy'])"
      ],
      "metadata": {
        "id": "iv49QWKsqXYK"
      },
      "execution_count": 19,
      "outputs": []
    },
    {
      "cell_type": "code",
      "source": [
        "# Training and Validation\n",
        "# The Model.fit method adjusts the model parameters to minimize the loss:\n",
        "%%time\n",
        "model.fit(x_train, y_train, epochs = 5)"
      ],
      "metadata": {
        "colab": {
          "base_uri": "https://localhost:8080/"
        },
        "id": "C0oLEV-rr-aN",
        "outputId": "94b0200d-4215-4e45-d37f-2ddd829337c8"
      },
      "execution_count": 21,
      "outputs": [
        {
          "output_type": "stream",
          "name": "stdout",
          "text": [
            "Epoch 1/5\n",
            "1875/1875 [==============================] - 6s 3ms/step - loss: 0.0669 - accuracy: 0.9787\n",
            "Epoch 2/5\n",
            "1875/1875 [==============================] - 5s 3ms/step - loss: 0.0601 - accuracy: 0.9807\n",
            "Epoch 3/5\n",
            "1875/1875 [==============================] - 8s 4ms/step - loss: 0.0535 - accuracy: 0.9824\n",
            "Epoch 4/5\n",
            "1875/1875 [==============================] - 5s 3ms/step - loss: 0.0483 - accuracy: 0.9844\n",
            "Epoch 5/5\n",
            "1875/1875 [==============================] - 6s 3ms/step - loss: 0.0447 - accuracy: 0.9858\n",
            "CPU times: user 29.8 s, sys: 2.5 s, total: 32.3 s\n",
            "Wall time: 41.5 s\n"
          ]
        },
        {
          "output_type": "execute_result",
          "data": {
            "text/plain": [
              "<keras.callbacks.History at 0x7f15e81da160>"
            ]
          },
          "metadata": {},
          "execution_count": 21
        }
      ]
    },
    {
      "cell_type": "code",
      "source": [
        "# Evaluate the model\n",
        "model.evaluate(x_test, y_test, verbose = 2)"
      ],
      "metadata": {
        "colab": {
          "base_uri": "https://localhost:8080/"
        },
        "id": "k69pyK-Fspvc",
        "outputId": "e78bbe8e-92cf-4019-d0b8-0049c9bb4c1c"
      },
      "execution_count": 22,
      "outputs": [
        {
          "output_type": "stream",
          "name": "stdout",
          "text": [
            "313/313 - 1s - loss: 0.0709 - accuracy: 0.9781 - 898ms/epoch - 3ms/step\n"
          ]
        },
        {
          "output_type": "execute_result",
          "data": {
            "text/plain": [
              "[0.07093098014593124, 0.9781000018119812]"
            ]
          },
          "metadata": {},
          "execution_count": 22
        }
      ]
    },
    {
      "cell_type": "code",
      "source": [],
      "metadata": {
        "id": "HY0UW06TtOBL"
      },
      "execution_count": null,
      "outputs": []
    }
  ]
}